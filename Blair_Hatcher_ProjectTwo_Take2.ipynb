{
 "cells": [
  {
   "cell_type": "markdown",
   "metadata": {},
   "source": [
    "# Treasure Hunt Game Notebook\n",
    "\n",
    "## Read and Review Your Starter Code\n",
    "The theme of this project is a popular treasure hunt game in which the player needs to find the treasure before the pirate does. While you will not be developing the entire game, you will write the part of the game that represents the intelligent agent, which is a pirate in this case. The pirate will try to find the optimal path to the treasure using deep Q-learning. \n",
    "\n",
    "You have been provided with two Python classes and this notebook to help you with this assignment. The first class, TreasureMaze.py, represents the environment, which includes a maze object defined as a matrix. The second class, GameExperience.py, stores the episodes – that is, all the states that come in between the initial state and the terminal state. This is later used by the agent for learning by experience, called \"exploration\". This notebook shows how to play a game. Your task is to complete the deep Q-learning implementation for which a skeleton implementation has been provided. The code blocks you will need to complete has #TODO as a header.\n",
    "\n",
    "First, read and review the next few code and instruction blocks to understand the code that you have been given."
   ]
  },
  {
   "cell_type": "code",
   "execution_count": 1,
   "metadata": {},
   "outputs": [
    {
     "name": "stderr",
     "output_type": "stream",
     "text": [
      "Using TensorFlow backend.\n"
     ]
    }
   ],
   "source": [
    "from __future__ import print_function\n",
    "import os, sys, time, datetime, json, random\n",
    "import numpy as np\n",
    "from keras.models import Sequential\n",
    "from keras.layers.core import Dense, Activation\n",
    "from keras.optimizers import SGD , Adam, RMSprop\n",
    "from keras.layers.advanced_activations import PReLU\n",
    "import matplotlib.pyplot as plt\n",
    "from TreasureMaze import TreasureMaze\n",
    "from GameExperience import GameExperience\n",
    "%matplotlib inline"
   ]
  },
  {
   "cell_type": "markdown",
   "metadata": {},
   "source": [
    "The following code block contains an 8x8 matrix that will be used as a maze object:"
   ]
  },
  {
   "cell_type": "code",
   "execution_count": 2,
   "metadata": {},
   "outputs": [],
   "source": [
    "maze = np.array([\n",
    "    [ 1.,  0.,  1.,  1.,  1.,  1.,  1.,  1.],\n",
    "    [ 1.,  0.,  1.,  1.,  1.,  0.,  1.,  1.],\n",
    "    [ 1.,  1.,  1.,  1.,  0.,  1.,  0.,  1.],\n",
    "    [ 1.,  1.,  1.,  0.,  1.,  1.,  1.,  1.],\n",
    "    [ 1.,  1.,  0.,  1.,  1.,  1.,  1.,  1.],\n",
    "    [ 1.,  1.,  1.,  0.,  1.,  0.,  0.,  0.],\n",
    "    [ 1.,  1.,  1.,  0.,  1.,  1.,  1.,  1.],\n",
    "    [ 1.,  1.,  1.,  1.,  0.,  1.,  1.,  1.]\n",
    "])"
   ]
  },
  {
   "cell_type": "markdown",
   "metadata": {},
   "source": [
    "This helper function allows a visual representation of the maze object:"
   ]
  },
  {
   "cell_type": "code",
   "execution_count": 3,
   "metadata": {},
   "outputs": [],
   "source": [
    "def show(qmaze):\n",
    "    plt.grid('on')\n",
    "    nrows, ncols = qmaze.maze.shape\n",
    "    ax = plt.gca()\n",
    "    ax.set_xticks(np.arange(0.5, nrows, 1))\n",
    "    ax.set_yticks(np.arange(0.5, ncols, 1))\n",
    "    ax.set_xticklabels([])\n",
    "    ax.set_yticklabels([])\n",
    "    canvas = np.copy(qmaze.maze)\n",
    "    for row,col in qmaze.visited:\n",
    "        canvas[row,col] = 0.6\n",
    "    pirate_row, pirate_col, _ = qmaze.state\n",
    "    canvas[pirate_row, pirate_col] = 0.3   # pirate cell\n",
    "    canvas[nrows-1, ncols-1] = 0.9 # treasure cell\n",
    "    img = plt.imshow(canvas, interpolation='none', cmap='gray')\n",
    "    return img"
   ]
  },
  {
   "cell_type": "markdown",
   "metadata": {},
   "source": [
    "The pirate agent can move in four directions: left, right, up, and down. \n",
    "\n",
    "While the agent primarily learns by experience through exploitation, often, the agent can choose to explore the environment to find previously undiscovered paths. This is called \"exploration\" and is defined by epsilon. This value is typically a lower value such as 0.1, which means for every ten attempts, the agent will attempt to learn by experience nine times and will randomly explore a new path one time. You are encouraged to try various values for the exploration factor and see how the algorithm performs."
   ]
  },
  {
   "cell_type": "code",
   "execution_count": 4,
   "metadata": {},
   "outputs": [],
   "source": [
    "LEFT = 0\n",
    "UP = 1\n",
    "RIGHT = 2\n",
    "DOWN = 3\n",
    "\n",
    "\n",
    "# Exploration factor\n",
    "epsilon = 0.1\n",
    "\n",
    "# Actions dictionary\n",
    "actions_dict = {\n",
    "    LEFT: 'left',\n",
    "    UP: 'up',\n",
    "    RIGHT: 'right',\n",
    "    DOWN: 'down',\n",
    "}\n",
    "\n",
    "num_actions = len(actions_dict)\n"
   ]
  },
  {
   "cell_type": "markdown",
   "metadata": {},
   "source": [
    "The sample code block and output below show creating a maze object and performing one action (DOWN), which returns the reward. The resulting updated environment is visualized."
   ]
  },
  {
   "cell_type": "code",
   "execution_count": 5,
   "metadata": {},
   "outputs": [
    {
     "name": "stdout",
     "output_type": "stream",
     "text": [
      "reward= -0.04\n"
     ]
    },
    {
     "data": {
      "text/plain": [
       "<matplotlib.image.AxesImage at 0x1abb0af2fc8>"
      ]
     },
     "execution_count": 5,
     "metadata": {},
     "output_type": "execute_result"
    },
    {
     "data": {
      "image/png": "[encoded data removed]",
      "text/plain": [
       "<Figure size 432x288 with 1 Axes>"
      ]
     },
     "metadata": {
      "needs_background": "light"
     },
     "output_type": "display_data"
    }
   ],
   "source": [
    "qmaze = TreasureMaze(maze)\n",
    "canvas, reward, game_over = qmaze.act(DOWN)\n",
    "print(\"reward=\", reward)\n",
    "show(qmaze)"
   ]
  },
  {
   "cell_type": "markdown",
   "metadata": {},
   "source": [
    "This function simulates a full game based on the provided trained model. The other parameters include the TreasureMaze object and the starting position of the pirate."
   ]
  },
  {
   "cell_type": "code",
   "execution_count": 6,
   "metadata": {},
   "outputs": [],
   "source": [
    "def play_game(model, qmaze, pirate_cell):\n",
    "    qmaze.reset(pirate_cell)\n",
    "    envstate = qmaze.observe()\n",
    "    while True:\n",
    "        prev_envstate = envstate\n",
    "        # get next action\n",
    "        q = model.predict(prev_envstate)\n",
    "        action = np.argmax(q[0])\n",
    "\n",
    "        # apply action, get rewards and new state\n",
    "        envstate, reward, game_status = qmaze.act(action)\n",
    "        if game_status == 'win':\n",
    "            return True\n",
    "        elif game_status == 'lose':\n",
    "            return False"
   ]
  },
  {
   "cell_type": "markdown",
   "metadata": {},
   "source": [
    "This function helps you to determine whether the pirate can win any game at all. If your maze is not well designed, the pirate may not win any game at all. In this case, your training would not yield any result. The provided maze in this notebook ensures that there is a path to win and you can run this method to check."
   ]
  },
  {
   "cell_type": "code",
   "execution_count": 7,
   "metadata": {},
   "outputs": [],
   "source": [
    "def completion_check(model, qmaze):\n",
    "    for cell in qmaze.free_cells:\n",
    "        if not qmaze.valid_actions(cell):\n",
    "            return False\n",
    "        if not play_game(model, qmaze, cell):\n",
    "            return False\n",
    "    return True"
   ]
  },
  {
   "cell_type": "markdown",
   "metadata": {},
   "source": [
    "The code you have been given in this block will build the neural network model. Review the code and note the number of layers, as well as the activation, optimizer, and loss functions that are used to train the model."
   ]
  },
  {
   "cell_type": "code",
   "execution_count": 8,
   "metadata": {},
   "outputs": [],
   "source": [
    "def build_model(maze):\n",
    "    model = Sequential()\n",
    "    model.add(Dense(maze.size, input_shape=(maze.size,)))\n",
    "    model.add(PReLU())\n",
    "    model.add(Dense(maze.size))\n",
    "    model.add(PReLU())\n",
    "    model.add(Dense(num_actions))\n",
    "    model.compile(optimizer='adam', loss='mse')\n",
    "    return model"
   ]
  },
  {
   "cell_type": "markdown",
   "metadata": {},
   "source": [
    "# #TODO: Complete the Q-Training Algorithm Code Block\n",
    "\n",
    "This is your deep Q-learning implementation. The goal of your deep Q-learning implementation is to find the best possible navigation sequence that results in reaching the treasure cell while maximizing the reward. In your implementation, you need to determine the optimal number of epochs to achieve a 100% win rate.\n",
    "\n",
    "You will need to complete the section starting with #pseudocode. The pseudocode has been included for you."
   ]
  },
  {
   "cell_type": "code",
   "execution_count": 9,
   "metadata": {},
   "outputs": [],
   "source": [
    "def qtrain(model, maze, **opt):\n",
    "\n",
    "    # exploration factor\n",
    "    global epsilon \n",
    "\n",
    "    # number of epochs\n",
    "    n_epoch = opt.get('n_epoch', 15000)\n",
    "\n",
    "    # maximum memory to store episodes\n",
    "    max_memory = opt.get('max_memory', 1000)\n",
    "\n",
    "    # maximum data size for training\n",
    "    data_size = opt.get('data_size', 50)\n",
    "\n",
    "    # start time\n",
    "    start_time = datetime.datetime.now()\n",
    "\n",
    "    # Construct environment/game from numpy array: maze (see above)\n",
    "    qmaze = TreasureMaze(maze)\n",
    "\n",
    "    # Initialize experience replay object\n",
    "    experience = GameExperience(model, max_memory=max_memory)\n",
    "    \n",
    "    win_history = []   # history of win/lose game\n",
    "    hsize = qmaze.maze.size//2   # history window size\n",
    "    win_rate = 0.0\n",
    "    \n",
    "    for epoch in range(n_epoch):\n",
    "        # Reset the maze with the agent in a random cell\n",
    "        agent_cell = random.choice(qmaze.free_cells)\n",
    "        qmaze.reset(agent_cell)\n",
    "        \n",
    "        # Get the current state\n",
    "        envstate = qmaze.observe()\n",
    "        \n",
    "        # Reset episode counter and game_over\n",
    "        n_episodes = 0\n",
    "        game_over = False\n",
    "        \n",
    "        # Loop over epoch\n",
    "        # Each iteration is one episode\n",
    "        while not game_over:\n",
    "            # Store the last state\n",
    "            prev_envstate = envstate\n",
    "            \n",
    "            # Exploration or exploitation\n",
    "            if np.random.rand() < epsilon:\n",
    "                # Exploration\n",
    "                action = random.choice(qmaze.valid_actions())\n",
    "            else:\n",
    "                # Exploitation\n",
    "                action = np.argmax(experience.predict(prev_envstate))\n",
    "                \n",
    "            # Complete the action\n",
    "            envstate, reward, game_status = qmaze.act(action)\n",
    "            \n",
    "            # Store the episode in memory\n",
    "            episode = [prev_envstate, action, reward, envstate, game_status]\n",
    "            experience.remember(episode)\n",
    "            n_episodes += 1\n",
    "            \n",
    "            # Train the model\n",
    "            inputs, targets = experience.get_data()\n",
    "            model.fit(inputs, targets, epochs=8, batch_size=16, verbose=0)\n",
    "            loss = model.evaluate(inputs, targets, verbose=0)\n",
    "            \n",
    "            # Check to see if game is over\n",
    "            if game_status == 'win':\n",
    "                # Win\n",
    "                win_history.append(1)\n",
    "                win_rate = sum(win_history) / len(win_history)\n",
    "                game_over = True\n",
    "            elif game_status == 'lose':\n",
    "                # Loss\n",
    "                win_history.append(0)\n",
    "                win_rate = sum(win_history) / len(win_history)\n",
    "                game_over = True\n",
    "            else:\n",
    "                # Game's not over\n",
    "                game_over = False\n",
    "\n",
    "\n",
    "        #Print the epoch, loss, episodes, win count, and win rate for each epoch\n",
    "        dt = datetime.datetime.now() - start_time\n",
    "        t = format_time(dt.total_seconds())\n",
    "        template = \"Epoch: {:03d}/{:d} | Loss: {:.4f} | Episodes: {:d} | Win count: {:d} | Win rate: {:.3f} | time: {}\"\n",
    "        print(template.format(epoch, n_epoch-1, loss, n_episodes, sum(win_history), win_rate, t))\n",
    "        # We simply check if training has exhausted all free cells and if in all\n",
    "        # cases the agent won.\n",
    "        if win_rate > 0.9 : epsilon = 0.05\n",
    "        if sum(win_history[-hsize:]) == hsize and completion_check(model, qmaze):\n",
    "            print(\"Reached 100%% win rate at epoch: %d\" % (epoch,))\n",
    "            break\n",
    "    \n",
    "    \n",
    "    # Determine the total time for training\n",
    "    dt = datetime.datetime.now() - start_time\n",
    "    seconds = dt.total_seconds()\n",
    "    t = format_time(seconds)\n",
    "\n",
    "    print(\"n_epoch: %d, max_mem: %d, data: %d, time: %s\" % (epoch, max_memory, data_size, t))\n",
    "    return seconds\n",
    "\n",
    "# This is a small utility for printing readable time strings:\n",
    "def format_time(seconds):\n",
    "    if seconds < 400:\n",
    "        s = float(seconds)\n",
    "        return \"%.1f seconds\" % (s,)\n",
    "    elif seconds < 4000:\n",
    "        m = seconds / 60.0\n",
    "        return \"%.2f minutes\" % (m,)\n",
    "    else:\n",
    "        h = seconds / 3600.0\n",
    "        return \"%.2f hours\" % (h,)"
   ]
  },
  {
   "cell_type": "markdown",
   "metadata": {},
   "source": [
    "## Test Your Model\n",
    "\n",
    "Now we will start testing the deep Q-learning implementation. To begin, select **Cell**, then **Run All** from the menu bar. This will run your notebook. As it runs, you should see output begin to appear beneath the next few cells. The code below creates an instance of TreasureMaze."
   ]
  },
  {
   "cell_type": "code",
   "execution_count": 10,
   "metadata": {},
   "outputs": [
    {
     "data": {
      "text/plain": [
       "<matplotlib.image.AxesImage at 0x1abb0bb6488>"
      ]
     },
     "execution_count": 10,
     "metadata": {},
     "output_type": "execute_result"
    },
    {
     "data": {
      "image/png": "[encoded data removed]",
      "text/plain": [
       "<Figure size 432x288 with 1 Axes>"
      ]
     },
     "metadata": {
      "needs_background": "light"
     },
     "output_type": "display_data"
    }
   ],
   "source": [
    "qmaze = TreasureMaze(maze)\n",
    "show(qmaze)"
   ]
  },
  {
   "cell_type": "markdown",
   "metadata": {},
   "source": [
    "In the next code block, you will build your model and train it using deep Q-learning. Note: This step takes several minutes to fully run."
   ]
  },
  {
   "cell_type": "code",
   "execution_count": 11,
   "metadata": {},
   "outputs": [
    {
     "name": "stdout",
     "output_type": "stream",
     "text": [
      "Epoch: 000/14999 | Loss: 0.0006 | Episodes: 144 | Win count: 0 | Win rate: 0.000 | time: 6.3 seconds\n",
      "Epoch: 001/14999 | Loss: 0.0003 | Episodes: 143 | Win count: 0 | Win rate: 0.000 | time: 11.0 seconds\n",
      "Epoch: 002/14999 | Loss: 0.0002 | Episodes: 144 | Win count: 0 | Win rate: 0.000 | time: 16.2 seconds\n",
      "Epoch: 003/14999 | Loss: 0.0004 | Episodes: 134 | Win count: 0 | Win rate: 0.000 | time: 20.8 seconds\n",
      "Epoch: 004/14999 | Loss: 0.0007 | Episodes: 139 | Win count: 0 | Win rate: 0.000 | time: 25.4 seconds\n",
      "Epoch: 005/14999 | Loss: 0.0008 | Episodes: 141 | Win count: 0 | Win rate: 0.000 | time: 30.0 seconds\n",
      "Epoch: 006/14999 | Loss: 0.0007 | Episodes: 137 | Win count: 0 | Win rate: 0.000 | time: 34.8 seconds\n",
      "Epoch: 007/14999 | Loss: 0.0008 | Episodes: 139 | Win count: 0 | Win rate: 0.000 | time: 39.6 seconds\n",
      "Epoch: 008/14999 | Loss: 0.0001 | Episodes: 137 | Win count: 0 | Win rate: 0.000 | time: 44.0 seconds\n",
      "Epoch: 009/14999 | Loss: 0.0013 | Episodes: 144 | Win count: 0 | Win rate: 0.000 | time: 48.9 seconds\n",
      "Epoch: 010/14999 | Loss: 0.0020 | Episodes: 143 | Win count: 0 | Win rate: 0.000 | time: 54.3 seconds\n",
      "Epoch: 011/14999 | Loss: 0.0025 | Episodes: 135 | Win count: 0 | Win rate: 0.000 | time: 58.9 seconds\n",
      "Epoch: 012/14999 | Loss: 0.0010 | Episodes: 143 | Win count: 0 | Win rate: 0.000 | time: 63.5 seconds\n",
      "Epoch: 013/14999 | Loss: 0.0001 | Episodes: 133 | Win count: 1 | Win rate: 0.071 | time: 68.1 seconds\n",
      "Epoch: 014/14999 | Loss: 0.0011 | Episodes: 149 | Win count: 1 | Win rate: 0.067 | time: 73.4 seconds\n",
      "Epoch: 015/14999 | Loss: 0.0005 | Episodes: 139 | Win count: 1 | Win rate: 0.062 | time: 78.2 seconds\n",
      "Epoch: 016/14999 | Loss: 0.0002 | Episodes: 142 | Win count: 1 | Win rate: 0.059 | time: 82.9 seconds\n",
      "Epoch: 017/14999 | Loss: 0.0003 | Episodes: 139 | Win count: 1 | Win rate: 0.056 | time: 87.6 seconds\n",
      "Epoch: 018/14999 | Loss: 0.0007 | Episodes: 155 | Win count: 1 | Win rate: 0.053 | time: 93.1 seconds\n",
      "Epoch: 019/14999 | Loss: 0.0017 | Episodes: 158 | Win count: 1 | Win rate: 0.050 | time: 98.4 seconds\n",
      "Epoch: 020/14999 | Loss: 0.0024 | Episodes: 141 | Win count: 1 | Win rate: 0.048 | time: 103.3 seconds\n",
      "Epoch: 021/14999 | Loss: 0.0003 | Episodes: 2 | Win count: 2 | Win rate: 0.091 | time: 103.4 seconds\n",
      "Epoch: 022/14999 | Loss: 0.0013 | Episodes: 143 | Win count: 2 | Win rate: 0.087 | time: 108.4 seconds\n",
      "Epoch: 023/14999 | Loss: 0.0003 | Episodes: 9 | Win count: 3 | Win rate: 0.125 | time: 108.7 seconds\n",
      "Epoch: 024/14999 | Loss: 0.0014 | Episodes: 1 | Win count: 4 | Win rate: 0.160 | time: 108.8 seconds\n",
      "Epoch: 025/14999 | Loss: 0.0001 | Episodes: 150 | Win count: 4 | Win rate: 0.154 | time: 114.6 seconds\n",
      "Epoch: 026/14999 | Loss: 0.0009 | Episodes: 144 | Win count: 4 | Win rate: 0.148 | time: 120.3 seconds\n",
      "Epoch: 027/14999 | Loss: 0.0000 | Episodes: 142 | Win count: 4 | Win rate: 0.143 | time: 125.7 seconds\n",
      "Epoch: 028/14999 | Loss: 0.0020 | Episodes: 1 | Win count: 5 | Win rate: 0.172 | time: 125.7 seconds\n",
      "Epoch: 029/14999 | Loss: 0.0008 | Episodes: 141 | Win count: 5 | Win rate: 0.167 | time: 130.7 seconds\n",
      "Epoch: 030/14999 | Loss: 0.0017 | Episodes: 9 | Win count: 6 | Win rate: 0.194 | time: 131.1 seconds\n",
      "Epoch: 031/14999 | Loss: 0.0018 | Episodes: 151 | Win count: 6 | Win rate: 0.188 | time: 136.3 seconds\n",
      "Epoch: 032/14999 | Loss: 0.0002 | Episodes: 95 | Win count: 7 | Win rate: 0.212 | time: 139.9 seconds\n",
      "Epoch: 033/14999 | Loss: 0.0023 | Episodes: 23 | Win count: 8 | Win rate: 0.235 | time: 140.8 seconds\n",
      "Epoch: 034/14999 | Loss: 0.0009 | Episodes: 150 | Win count: 8 | Win rate: 0.229 | time: 146.3 seconds\n",
      "Epoch: 035/14999 | Loss: 0.0003 | Episodes: 1 | Win count: 9 | Win rate: 0.250 | time: 146.4 seconds\n",
      "Epoch: 036/14999 | Loss: 0.0023 | Episodes: 140 | Win count: 9 | Win rate: 0.243 | time: 151.2 seconds\n",
      "Epoch: 037/14999 | Loss: 0.0012 | Episodes: 150 | Win count: 9 | Win rate: 0.237 | time: 156.2 seconds\n",
      "Epoch: 038/14999 | Loss: 0.0001 | Episodes: 146 | Win count: 9 | Win rate: 0.231 | time: 161.0 seconds\n",
      "Epoch: 039/14999 | Loss: 0.0026 | Episodes: 141 | Win count: 9 | Win rate: 0.225 | time: 165.9 seconds\n",
      "Epoch: 040/14999 | Loss: 0.0016 | Episodes: 146 | Win count: 9 | Win rate: 0.220 | time: 170.7 seconds\n",
      "Epoch: 041/14999 | Loss: 0.0013 | Episodes: 155 | Win count: 9 | Win rate: 0.214 | time: 176.1 seconds\n",
      "Epoch: 042/14999 | Loss: 0.0001 | Episodes: 144 | Win count: 9 | Win rate: 0.209 | time: 181.1 seconds\n",
      "Epoch: 043/14999 | Loss: 0.0002 | Episodes: 153 | Win count: 9 | Win rate: 0.205 | time: 186.5 seconds\n",
      "Epoch: 044/14999 | Loss: 0.0002 | Episodes: 148 | Win count: 9 | Win rate: 0.200 | time: 191.4 seconds\n",
      "Epoch: 045/14999 | Loss: 0.0004 | Episodes: 142 | Win count: 9 | Win rate: 0.196 | time: 196.4 seconds\n",
      "Epoch: 046/14999 | Loss: 0.0008 | Episodes: 62 | Win count: 10 | Win rate: 0.213 | time: 198.4 seconds\n",
      "Epoch: 047/14999 | Loss: 0.0009 | Episodes: 145 | Win count: 10 | Win rate: 0.208 | time: 203.3 seconds\n",
      "Epoch: 048/14999 | Loss: 0.0002 | Episodes: 143 | Win count: 10 | Win rate: 0.204 | time: 208.1 seconds\n",
      "Epoch: 049/14999 | Loss: 0.0004 | Episodes: 140 | Win count: 10 | Win rate: 0.200 | time: 212.2 seconds\n",
      "Epoch: 050/14999 | Loss: 0.0010 | Episodes: 143 | Win count: 10 | Win rate: 0.196 | time: 217.1 seconds\n",
      "Epoch: 051/14999 | Loss: 0.0012 | Episodes: 149 | Win count: 10 | Win rate: 0.192 | time: 221.4 seconds\n",
      "Epoch: 052/14999 | Loss: 0.0015 | Episodes: 156 | Win count: 10 | Win rate: 0.189 | time: 226.6 seconds\n",
      "Epoch: 053/14999 | Loss: 0.0007 | Episodes: 1 | Win count: 11 | Win rate: 0.204 | time: 226.7 seconds\n",
      "Epoch: 054/14999 | Loss: 0.0015 | Episodes: 145 | Win count: 11 | Win rate: 0.200 | time: 232.1 seconds\n",
      "Epoch: 055/14999 | Loss: 0.0022 | Episodes: 149 | Win count: 11 | Win rate: 0.196 | time: 237.1 seconds\n",
      "Epoch: 056/14999 | Loss: 0.0011 | Episodes: 151 | Win count: 11 | Win rate: 0.193 | time: 242.2 seconds\n",
      "Epoch: 057/14999 | Loss: 0.0010 | Episodes: 136 | Win count: 11 | Win rate: 0.190 | time: 246.9 seconds\n",
      "Epoch: 058/14999 | Loss: 0.0014 | Episodes: 89 | Win count: 12 | Win rate: 0.203 | time: 249.8 seconds\n",
      "Epoch: 059/14999 | Loss: 0.0011 | Episodes: 45 | Win count: 13 | Win rate: 0.217 | time: 251.1 seconds\n",
      "Epoch: 060/14999 | Loss: 0.0015 | Episodes: 137 | Win count: 13 | Win rate: 0.213 | time: 255.6 seconds\n",
      "Epoch: 061/14999 | Loss: 0.0002 | Episodes: 134 | Win count: 14 | Win rate: 0.226 | time: 259.9 seconds\n",
      "Epoch: 062/14999 | Loss: 0.0025 | Episodes: 93 | Win count: 15 | Win rate: 0.238 | time: 263.2 seconds\n",
      "Epoch: 063/14999 | Loss: 0.0016 | Episodes: 143 | Win count: 15 | Win rate: 0.234 | time: 268.0 seconds\n",
      "Epoch: 064/14999 | Loss: 0.0009 | Episodes: 144 | Win count: 15 | Win rate: 0.231 | time: 272.8 seconds\n",
      "Epoch: 065/14999 | Loss: 0.0023 | Episodes: 146 | Win count: 15 | Win rate: 0.227 | time: 277.5 seconds\n",
      "Epoch: 066/14999 | Loss: 0.0021 | Episodes: 147 | Win count: 15 | Win rate: 0.224 | time: 282.3 seconds\n",
      "Epoch: 067/14999 | Loss: 0.0002 | Episodes: 39 | Win count: 16 | Win rate: 0.235 | time: 283.7 seconds\n",
      "Epoch: 068/14999 | Loss: 0.0005 | Episodes: 144 | Win count: 16 | Win rate: 0.232 | time: 288.6 seconds\n",
      "Epoch: 069/14999 | Loss: 0.0006 | Episodes: 157 | Win count: 16 | Win rate: 0.229 | time: 294.2 seconds\n",
      "Epoch: 070/14999 | Loss: 0.0007 | Episodes: 146 | Win count: 16 | Win rate: 0.225 | time: 299.2 seconds\n",
      "Epoch: 071/14999 | Loss: 0.0002 | Episodes: 139 | Win count: 16 | Win rate: 0.222 | time: 303.9 seconds\n",
      "Epoch: 072/14999 | Loss: 0.0030 | Episodes: 155 | Win count: 16 | Win rate: 0.219 | time: 309.3 seconds\n",
      "Epoch: 073/14999 | Loss: 0.0010 | Episodes: 150 | Win count: 16 | Win rate: 0.216 | time: 314.4 seconds\n",
      "Epoch: 074/14999 | Loss: 0.0008 | Episodes: 144 | Win count: 16 | Win rate: 0.213 | time: 319.3 seconds\n",
      "Epoch: 075/14999 | Loss: 0.0003 | Episodes: 143 | Win count: 16 | Win rate: 0.211 | time: 323.9 seconds\n",
      "Epoch: 076/14999 | Loss: 0.0004 | Episodes: 139 | Win count: 16 | Win rate: 0.208 | time: 328.6 seconds\n",
      "Epoch: 077/14999 | Loss: 0.0001 | Episodes: 139 | Win count: 16 | Win rate: 0.205 | time: 332.9 seconds\n",
      "Epoch: 078/14999 | Loss: 0.0011 | Episodes: 149 | Win count: 16 | Win rate: 0.203 | time: 338.0 seconds\n",
      "Epoch: 079/14999 | Loss: 0.0008 | Episodes: 140 | Win count: 16 | Win rate: 0.200 | time: 342.8 seconds\n",
      "Epoch: 080/14999 | Loss: 0.0022 | Episodes: 1 | Win count: 17 | Win rate: 0.210 | time: 342.9 seconds\n"
     ]
    },
    {
     "name": "stdout",
     "output_type": "stream",
     "text": [
      "Epoch: 081/14999 | Loss: 0.0017 | Episodes: 140 | Win count: 17 | Win rate: 0.207 | time: 347.5 seconds\n",
      "Epoch: 082/14999 | Loss: 0.0009 | Episodes: 1 | Win count: 18 | Win rate: 0.217 | time: 347.5 seconds\n",
      "Epoch: 083/14999 | Loss: 0.0019 | Episodes: 151 | Win count: 18 | Win rate: 0.214 | time: 352.7 seconds\n",
      "Epoch: 084/14999 | Loss: 0.0016 | Episodes: 144 | Win count: 18 | Win rate: 0.212 | time: 357.6 seconds\n",
      "Epoch: 085/14999 | Loss: 0.0003 | Episodes: 145 | Win count: 18 | Win rate: 0.209 | time: 362.7 seconds\n",
      "Epoch: 086/14999 | Loss: 0.0007 | Episodes: 143 | Win count: 18 | Win rate: 0.207 | time: 367.8 seconds\n",
      "Epoch: 087/14999 | Loss: 0.0004 | Episodes: 3 | Win count: 19 | Win rate: 0.216 | time: 367.9 seconds\n",
      "Epoch: 088/14999 | Loss: 0.0002 | Episodes: 138 | Win count: 19 | Win rate: 0.213 | time: 372.6 seconds\n",
      "Epoch: 089/14999 | Loss: 0.0019 | Episodes: 144 | Win count: 19 | Win rate: 0.211 | time: 377.6 seconds\n",
      "Epoch: 090/14999 | Loss: 0.0000 | Episodes: 143 | Win count: 19 | Win rate: 0.209 | time: 382.4 seconds\n",
      "Epoch: 091/14999 | Loss: 0.0017 | Episodes: 1 | Win count: 20 | Win rate: 0.217 | time: 382.4 seconds\n",
      "Epoch: 092/14999 | Loss: 0.0017 | Episodes: 41 | Win count: 21 | Win rate: 0.226 | time: 383.8 seconds\n",
      "Epoch: 093/14999 | Loss: 0.0006 | Episodes: 155 | Win count: 21 | Win rate: 0.223 | time: 388.8 seconds\n",
      "Epoch: 094/14999 | Loss: 0.0015 | Episodes: 140 | Win count: 21 | Win rate: 0.221 | time: 393.4 seconds\n",
      "Epoch: 095/14999 | Loss: 0.0009 | Episodes: 155 | Win count: 21 | Win rate: 0.219 | time: 398.5 seconds\n",
      "Epoch: 096/14999 | Loss: 0.0000 | Episodes: 136 | Win count: 21 | Win rate: 0.216 | time: 6.71 minutes\n",
      "Epoch: 097/14999 | Loss: 0.0010 | Episodes: 62 | Win count: 22 | Win rate: 0.224 | time: 6.75 minutes\n",
      "Epoch: 098/14999 | Loss: 0.0009 | Episodes: 11 | Win count: 23 | Win rate: 0.232 | time: 6.76 minutes\n",
      "Epoch: 099/14999 | Loss: 0.0009 | Episodes: 1 | Win count: 24 | Win rate: 0.240 | time: 6.76 minutes\n",
      "Epoch: 100/14999 | Loss: 0.0009 | Episodes: 142 | Win count: 24 | Win rate: 0.238 | time: 6.84 minutes\n",
      "Epoch: 101/14999 | Loss: 0.0021 | Episodes: 2 | Win count: 25 | Win rate: 0.245 | time: 6.84 minutes\n",
      "Epoch: 102/14999 | Loss: 0.0012 | Episodes: 144 | Win count: 25 | Win rate: 0.243 | time: 6.96 minutes\n",
      "Epoch: 103/14999 | Loss: 0.0011 | Episodes: 154 | Win count: 25 | Win rate: 0.240 | time: 7.07 minutes\n",
      "Epoch: 104/14999 | Loss: 0.0009 | Episodes: 148 | Win count: 25 | Win rate: 0.238 | time: 7.17 minutes\n",
      "Epoch: 105/14999 | Loss: 0.0007 | Episodes: 157 | Win count: 25 | Win rate: 0.236 | time: 7.27 minutes\n",
      "Epoch: 106/14999 | Loss: 0.0032 | Episodes: 1 | Win count: 26 | Win rate: 0.243 | time: 7.27 minutes\n",
      "Epoch: 107/14999 | Loss: 0.0002 | Episodes: 144 | Win count: 26 | Win rate: 0.241 | time: 7.35 minutes\n",
      "Epoch: 108/14999 | Loss: 0.0010 | Episodes: 3 | Win count: 27 | Win rate: 0.248 | time: 7.35 minutes\n",
      "Epoch: 109/14999 | Loss: 0.0006 | Episodes: 62 | Win count: 28 | Win rate: 0.255 | time: 7.39 minutes\n",
      "Epoch: 110/14999 | Loss: 0.0010 | Episodes: 121 | Win count: 29 | Win rate: 0.261 | time: 7.47 minutes\n",
      "Epoch: 111/14999 | Loss: 0.0026 | Episodes: 33 | Win count: 30 | Win rate: 0.268 | time: 7.48 minutes\n",
      "Epoch: 112/14999 | Loss: 0.0007 | Episodes: 24 | Win count: 31 | Win rate: 0.274 | time: 7.50 minutes\n",
      "Epoch: 113/14999 | Loss: 0.0018 | Episodes: 51 | Win count: 32 | Win rate: 0.281 | time: 7.53 minutes\n",
      "Epoch: 114/14999 | Loss: 0.0010 | Episodes: 43 | Win count: 33 | Win rate: 0.287 | time: 7.55 minutes\n",
      "Epoch: 115/14999 | Loss: 0.0025 | Episodes: 69 | Win count: 34 | Win rate: 0.293 | time: 7.59 minutes\n",
      "Epoch: 116/14999 | Loss: 0.0008 | Episodes: 21 | Win count: 35 | Win rate: 0.299 | time: 7.60 minutes\n",
      "Epoch: 117/14999 | Loss: 0.0007 | Episodes: 5 | Win count: 36 | Win rate: 0.305 | time: 7.60 minutes\n",
      "Epoch: 118/14999 | Loss: 0.0007 | Episodes: 136 | Win count: 36 | Win rate: 0.303 | time: 7.68 minutes\n",
      "Epoch: 119/14999 | Loss: 0.0019 | Episodes: 69 | Win count: 37 | Win rate: 0.308 | time: 7.72 minutes\n",
      "Epoch: 120/14999 | Loss: 0.0022 | Episodes: 19 | Win count: 38 | Win rate: 0.314 | time: 7.73 minutes\n",
      "Epoch: 121/14999 | Loss: 0.0026 | Episodes: 32 | Win count: 39 | Win rate: 0.320 | time: 7.75 minutes\n",
      "Epoch: 122/14999 | Loss: 0.0018 | Episodes: 33 | Win count: 40 | Win rate: 0.325 | time: 7.76 minutes\n",
      "Epoch: 123/14999 | Loss: 0.0007 | Episodes: 68 | Win count: 41 | Win rate: 0.331 | time: 7.81 minutes\n",
      "Epoch: 124/14999 | Loss: 0.0007 | Episodes: 39 | Win count: 42 | Win rate: 0.336 | time: 7.83 minutes\n",
      "Epoch: 125/14999 | Loss: 0.0015 | Episodes: 15 | Win count: 43 | Win rate: 0.341 | time: 7.84 minutes\n",
      "Epoch: 126/14999 | Loss: 0.0015 | Episodes: 21 | Win count: 44 | Win rate: 0.346 | time: 7.85 minutes\n",
      "Epoch: 127/14999 | Loss: 0.0023 | Episodes: 29 | Win count: 45 | Win rate: 0.352 | time: 7.87 minutes\n",
      "Epoch: 128/14999 | Loss: 0.0001 | Episodes: 7 | Win count: 46 | Win rate: 0.357 | time: 7.87 minutes\n",
      "Epoch: 129/14999 | Loss: 0.0011 | Episodes: 38 | Win count: 47 | Win rate: 0.362 | time: 7.89 minutes\n",
      "Epoch: 130/14999 | Loss: 0.0013 | Episodes: 125 | Win count: 48 | Win rate: 0.366 | time: 7.96 minutes\n",
      "Epoch: 131/14999 | Loss: 0.0008 | Episodes: 13 | Win count: 49 | Win rate: 0.371 | time: 7.96 minutes\n",
      "Epoch: 132/14999 | Loss: 0.0008 | Episodes: 11 | Win count: 50 | Win rate: 0.376 | time: 7.97 minutes\n",
      "Epoch: 133/14999 | Loss: 0.0004 | Episodes: 1 | Win count: 51 | Win rate: 0.381 | time: 7.97 minutes\n",
      "Epoch: 134/14999 | Loss: 0.0014 | Episodes: 13 | Win count: 52 | Win rate: 0.385 | time: 7.98 minutes\n",
      "Epoch: 135/14999 | Loss: 0.0010 | Episodes: 31 | Win count: 53 | Win rate: 0.390 | time: 7.99 minutes\n",
      "Epoch: 136/14999 | Loss: 0.0017 | Episodes: 27 | Win count: 54 | Win rate: 0.394 | time: 8.01 minutes\n",
      "Epoch: 137/14999 | Loss: 0.0011 | Episodes: 52 | Win count: 55 | Win rate: 0.399 | time: 8.04 minutes\n",
      "Epoch: 138/14999 | Loss: 0.0011 | Episodes: 16 | Win count: 56 | Win rate: 0.403 | time: 8.05 minutes\n",
      "Epoch: 139/14999 | Loss: 0.0016 | Episodes: 50 | Win count: 57 | Win rate: 0.407 | time: 8.07 minutes\n",
      "Epoch: 140/14999 | Loss: 0.0024 | Episodes: 90 | Win count: 58 | Win rate: 0.411 | time: 8.13 minutes\n",
      "Epoch: 141/14999 | Loss: 0.0015 | Episodes: 12 | Win count: 59 | Win rate: 0.415 | time: 8.13 minutes\n",
      "Epoch: 142/14999 | Loss: 0.0011 | Episodes: 27 | Win count: 60 | Win rate: 0.420 | time: 8.15 minutes\n",
      "Epoch: 143/14999 | Loss: 0.0023 | Episodes: 114 | Win count: 61 | Win rate: 0.424 | time: 8.21 minutes\n",
      "Epoch: 144/14999 | Loss: 0.0021 | Episodes: 27 | Win count: 62 | Win rate: 0.428 | time: 8.22 minutes\n",
      "Epoch: 145/14999 | Loss: 0.0013 | Episodes: 8 | Win count: 63 | Win rate: 0.432 | time: 8.23 minutes\n",
      "Epoch: 146/14999 | Loss: 0.0017 | Episodes: 131 | Win count: 64 | Win rate: 0.435 | time: 8.30 minutes\n",
      "Epoch: 147/14999 | Loss: 0.0017 | Episodes: 61 | Win count: 65 | Win rate: 0.439 | time: 8.33 minutes\n",
      "Epoch: 148/14999 | Loss: 0.0010 | Episodes: 17 | Win count: 66 | Win rate: 0.443 | time: 8.34 minutes\n",
      "Epoch: 149/14999 | Loss: 0.0020 | Episodes: 15 | Win count: 67 | Win rate: 0.447 | time: 8.35 minutes\n",
      "Epoch: 150/14999 | Loss: 0.0008 | Episodes: 37 | Win count: 68 | Win rate: 0.450 | time: 8.37 minutes\n",
      "Epoch: 151/14999 | Loss: 0.0016 | Episodes: 77 | Win count: 69 | Win rate: 0.454 | time: 8.41 minutes\n",
      "Epoch: 152/14999 | Loss: 0.0005 | Episodes: 19 | Win count: 70 | Win rate: 0.458 | time: 8.42 minutes\n",
      "Epoch: 153/14999 | Loss: 0.0003 | Episodes: 29 | Win count: 71 | Win rate: 0.461 | time: 8.44 minutes\n",
      "Epoch: 154/14999 | Loss: 0.0007 | Episodes: 8 | Win count: 72 | Win rate: 0.465 | time: 8.45 minutes\n",
      "Epoch: 155/14999 | Loss: 0.0022 | Episodes: 3 | Win count: 73 | Win rate: 0.468 | time: 8.45 minutes\n",
      "Epoch: 156/14999 | Loss: 0.0019 | Episodes: 41 | Win count: 74 | Win rate: 0.471 | time: 8.48 minutes\n",
      "Epoch: 157/14999 | Loss: 0.0013 | Episodes: 24 | Win count: 75 | Win rate: 0.475 | time: 8.49 minutes\n",
      "Epoch: 158/14999 | Loss: 0.0014 | Episodes: 17 | Win count: 76 | Win rate: 0.478 | time: 8.50 minutes\n",
      "Epoch: 159/14999 | Loss: 0.0017 | Episodes: 13 | Win count: 77 | Win rate: 0.481 | time: 8.51 minutes\n",
      "Epoch: 160/14999 | Loss: 0.0018 | Episodes: 9 | Win count: 78 | Win rate: 0.484 | time: 8.52 minutes\n",
      "Epoch: 161/14999 | Loss: 0.0002 | Episodes: 15 | Win count: 79 | Win rate: 0.488 | time: 8.53 minutes\n"
     ]
    },
    {
     "name": "stdout",
     "output_type": "stream",
     "text": [
      "Epoch: 162/14999 | Loss: 0.0012 | Episodes: 12 | Win count: 80 | Win rate: 0.491 | time: 8.54 minutes\n",
      "Epoch: 163/14999 | Loss: 0.0001 | Episodes: 14 | Win count: 81 | Win rate: 0.494 | time: 8.55 minutes\n",
      "Epoch: 164/14999 | Loss: 0.0012 | Episodes: 21 | Win count: 82 | Win rate: 0.497 | time: 8.56 minutes\n",
      "Epoch: 165/14999 | Loss: 0.0011 | Episodes: 14 | Win count: 83 | Win rate: 0.500 | time: 8.57 minutes\n",
      "Epoch: 166/14999 | Loss: 0.0003 | Episodes: 18 | Win count: 84 | Win rate: 0.503 | time: 8.59 minutes\n",
      "Epoch: 167/14999 | Loss: 0.0008 | Episodes: 1 | Win count: 85 | Win rate: 0.506 | time: 8.59 minutes\n",
      "Epoch: 168/14999 | Loss: 0.0004 | Episodes: 18 | Win count: 86 | Win rate: 0.509 | time: 8.60 minutes\n",
      "Epoch: 169/14999 | Loss: 0.0002 | Episodes: 9 | Win count: 87 | Win rate: 0.512 | time: 8.61 minutes\n",
      "Epoch: 170/14999 | Loss: 0.0014 | Episodes: 136 | Win count: 87 | Win rate: 0.509 | time: 8.68 minutes\n",
      "Epoch: 171/14999 | Loss: 0.0006 | Episodes: 21 | Win count: 88 | Win rate: 0.512 | time: 8.70 minutes\n",
      "Epoch: 172/14999 | Loss: 0.0003 | Episodes: 2 | Win count: 89 | Win rate: 0.514 | time: 8.70 minutes\n",
      "Epoch: 173/14999 | Loss: 0.0007 | Episodes: 87 | Win count: 90 | Win rate: 0.517 | time: 8.75 minutes\n",
      "Epoch: 174/14999 | Loss: 0.0005 | Episodes: 13 | Win count: 91 | Win rate: 0.520 | time: 8.76 minutes\n",
      "Epoch: 175/14999 | Loss: 0.0008 | Episodes: 17 | Win count: 92 | Win rate: 0.523 | time: 8.77 minutes\n",
      "Epoch: 176/14999 | Loss: 0.0010 | Episodes: 44 | Win count: 93 | Win rate: 0.525 | time: 8.80 minutes\n",
      "Epoch: 177/14999 | Loss: 0.0003 | Episodes: 63 | Win count: 94 | Win rate: 0.528 | time: 8.84 minutes\n",
      "Epoch: 178/14999 | Loss: 0.0016 | Episodes: 16 | Win count: 95 | Win rate: 0.531 | time: 8.85 minutes\n",
      "Epoch: 179/14999 | Loss: 0.0008 | Episodes: 7 | Win count: 96 | Win rate: 0.533 | time: 8.85 minutes\n",
      "Epoch: 180/14999 | Loss: 0.0001 | Episodes: 20 | Win count: 97 | Win rate: 0.536 | time: 8.86 minutes\n",
      "Epoch: 181/14999 | Loss: 0.0014 | Episodes: 28 | Win count: 98 | Win rate: 0.538 | time: 8.88 minutes\n",
      "Epoch: 182/14999 | Loss: 0.0002 | Episodes: 40 | Win count: 99 | Win rate: 0.541 | time: 8.91 minutes\n",
      "Epoch: 183/14999 | Loss: 0.0006 | Episodes: 14 | Win count: 100 | Win rate: 0.543 | time: 8.92 minutes\n",
      "Epoch: 184/14999 | Loss: 0.0009 | Episodes: 35 | Win count: 101 | Win rate: 0.546 | time: 8.94 minutes\n",
      "Epoch: 185/14999 | Loss: 0.0015 | Episodes: 19 | Win count: 102 | Win rate: 0.548 | time: 8.95 minutes\n",
      "Epoch: 186/14999 | Loss: 0.0011 | Episodes: 11 | Win count: 103 | Win rate: 0.551 | time: 8.96 minutes\n",
      "Epoch: 187/14999 | Loss: 0.0001 | Episodes: 13 | Win count: 104 | Win rate: 0.553 | time: 8.97 minutes\n",
      "Epoch: 188/14999 | Loss: 0.0004 | Episodes: 46 | Win count: 105 | Win rate: 0.556 | time: 9.00 minutes\n",
      "Epoch: 189/14999 | Loss: 0.0003 | Episodes: 8 | Win count: 106 | Win rate: 0.558 | time: 9.00 minutes\n",
      "Epoch: 190/14999 | Loss: 0.0010 | Episodes: 30 | Win count: 107 | Win rate: 0.560 | time: 9.02 minutes\n",
      "Epoch: 191/14999 | Loss: 0.0019 | Episodes: 9 | Win count: 108 | Win rate: 0.562 | time: 9.03 minutes\n",
      "Epoch: 192/14999 | Loss: 0.0009 | Episodes: 11 | Win count: 109 | Win rate: 0.565 | time: 9.03 minutes\n",
      "Epoch: 193/14999 | Loss: 0.0029 | Episodes: 1 | Win count: 110 | Win rate: 0.567 | time: 9.04 minutes\n",
      "Epoch: 194/14999 | Loss: 0.0007 | Episodes: 75 | Win count: 111 | Win rate: 0.569 | time: 9.08 minutes\n",
      "Epoch: 195/14999 | Loss: 0.0015 | Episodes: 36 | Win count: 112 | Win rate: 0.571 | time: 9.10 minutes\n",
      "Epoch: 196/14999 | Loss: 0.0015 | Episodes: 26 | Win count: 113 | Win rate: 0.574 | time: 9.12 minutes\n",
      "Epoch: 197/14999 | Loss: 0.0006 | Episodes: 66 | Win count: 114 | Win rate: 0.576 | time: 9.16 minutes\n",
      "Epoch: 198/14999 | Loss: 0.0008 | Episodes: 41 | Win count: 115 | Win rate: 0.578 | time: 9.18 minutes\n",
      "Epoch: 199/14999 | Loss: 0.0009 | Episodes: 7 | Win count: 116 | Win rate: 0.580 | time: 9.18 minutes\n",
      "Epoch: 200/14999 | Loss: 0.0017 | Episodes: 4 | Win count: 117 | Win rate: 0.582 | time: 9.18 minutes\n",
      "Epoch: 201/14999 | Loss: 0.0010 | Episodes: 19 | Win count: 118 | Win rate: 0.584 | time: 9.20 minutes\n",
      "Epoch: 202/14999 | Loss: 0.0001 | Episodes: 26 | Win count: 119 | Win rate: 0.586 | time: 9.21 minutes\n",
      "Epoch: 203/14999 | Loss: 0.0004 | Episodes: 12 | Win count: 120 | Win rate: 0.588 | time: 9.22 minutes\n",
      "Epoch: 204/14999 | Loss: 0.0008 | Episodes: 36 | Win count: 121 | Win rate: 0.590 | time: 9.25 minutes\n",
      "Epoch: 205/14999 | Loss: 0.0027 | Episodes: 31 | Win count: 122 | Win rate: 0.592 | time: 9.27 minutes\n",
      "Epoch: 206/14999 | Loss: 0.0002 | Episodes: 14 | Win count: 123 | Win rate: 0.594 | time: 9.28 minutes\n",
      "Epoch: 207/14999 | Loss: 0.0015 | Episodes: 11 | Win count: 124 | Win rate: 0.596 | time: 9.29 minutes\n",
      "Epoch: 208/14999 | Loss: 0.0005 | Episodes: 54 | Win count: 125 | Win rate: 0.598 | time: 9.32 minutes\n",
      "Epoch: 209/14999 | Loss: 0.0018 | Episodes: 6 | Win count: 126 | Win rate: 0.600 | time: 9.32 minutes\n",
      "Epoch: 210/14999 | Loss: 0.0016 | Episodes: 65 | Win count: 127 | Win rate: 0.602 | time: 9.36 minutes\n",
      "Epoch: 211/14999 | Loss: 0.0010 | Episodes: 41 | Win count: 128 | Win rate: 0.604 | time: 9.39 minutes\n",
      "Epoch: 212/14999 | Loss: 0.0011 | Episodes: 29 | Win count: 129 | Win rate: 0.606 | time: 9.41 minutes\n",
      "Epoch: 213/14999 | Loss: 0.0006 | Episodes: 5 | Win count: 130 | Win rate: 0.607 | time: 9.42 minutes\n",
      "Epoch: 214/14999 | Loss: 0.0016 | Episodes: 3 | Win count: 131 | Win rate: 0.609 | time: 9.42 minutes\n",
      "Epoch: 215/14999 | Loss: 0.0008 | Episodes: 8 | Win count: 132 | Win rate: 0.611 | time: 9.43 minutes\n",
      "Epoch: 216/14999 | Loss: 0.0008 | Episodes: 12 | Win count: 133 | Win rate: 0.613 | time: 9.44 minutes\n",
      "Epoch: 217/14999 | Loss: 0.0008 | Episodes: 16 | Win count: 134 | Win rate: 0.615 | time: 9.45 minutes\n",
      "Epoch: 218/14999 | Loss: 0.0002 | Episodes: 10 | Win count: 135 | Win rate: 0.616 | time: 9.46 minutes\n",
      "Epoch: 219/14999 | Loss: 0.0009 | Episodes: 75 | Win count: 136 | Win rate: 0.618 | time: 9.50 minutes\n",
      "Epoch: 220/14999 | Loss: 0.0003 | Episodes: 43 | Win count: 137 | Win rate: 0.620 | time: 9.53 minutes\n",
      "Epoch: 221/14999 | Loss: 0.0020 | Episodes: 15 | Win count: 138 | Win rate: 0.622 | time: 9.54 minutes\n",
      "Epoch: 222/14999 | Loss: 0.0011 | Episodes: 85 | Win count: 139 | Win rate: 0.623 | time: 9.59 minutes\n",
      "Epoch: 223/14999 | Loss: 0.0016 | Episodes: 6 | Win count: 140 | Win rate: 0.625 | time: 9.60 minutes\n",
      "Epoch: 224/14999 | Loss: 0.0002 | Episodes: 147 | Win count: 141 | Win rate: 0.627 | time: 9.68 minutes\n",
      "Epoch: 225/14999 | Loss: 0.0007 | Episodes: 37 | Win count: 142 | Win rate: 0.628 | time: 9.70 minutes\n",
      "Epoch: 226/14999 | Loss: 0.0012 | Episodes: 22 | Win count: 143 | Win rate: 0.630 | time: 9.72 minutes\n",
      "Epoch: 227/14999 | Loss: 0.0004 | Episodes: 5 | Win count: 144 | Win rate: 0.632 | time: 9.72 minutes\n",
      "Epoch: 228/14999 | Loss: 0.0003 | Episodes: 16 | Win count: 145 | Win rate: 0.633 | time: 9.73 minutes\n",
      "Epoch: 229/14999 | Loss: 0.0008 | Episodes: 1 | Win count: 146 | Win rate: 0.635 | time: 9.73 minutes\n",
      "Epoch: 230/14999 | Loss: 0.0010 | Episodes: 31 | Win count: 147 | Win rate: 0.636 | time: 9.75 minutes\n",
      "Epoch: 231/14999 | Loss: 0.0002 | Episodes: 30 | Win count: 148 | Win rate: 0.638 | time: 9.76 minutes\n",
      "Epoch: 232/14999 | Loss: 0.0009 | Episodes: 39 | Win count: 149 | Win rate: 0.639 | time: 9.79 minutes\n",
      "Epoch: 233/14999 | Loss: 0.0027 | Episodes: 12 | Win count: 150 | Win rate: 0.641 | time: 9.80 minutes\n",
      "Epoch: 234/14999 | Loss: 0.0005 | Episodes: 6 | Win count: 151 | Win rate: 0.643 | time: 9.81 minutes\n",
      "Epoch: 235/14999 | Loss: 0.0013 | Episodes: 7 | Win count: 152 | Win rate: 0.644 | time: 9.82 minutes\n",
      "Epoch: 236/14999 | Loss: 0.0009 | Episodes: 8 | Win count: 153 | Win rate: 0.646 | time: 9.82 minutes\n",
      "Epoch: 237/14999 | Loss: 0.0010 | Episodes: 44 | Win count: 154 | Win rate: 0.647 | time: 9.85 minutes\n",
      "Epoch: 238/14999 | Loss: 0.0004 | Episodes: 32 | Win count: 155 | Win rate: 0.649 | time: 9.87 minutes\n",
      "Epoch: 239/14999 | Loss: 0.0004 | Episodes: 9 | Win count: 156 | Win rate: 0.650 | time: 9.88 minutes\n",
      "Epoch: 240/14999 | Loss: 0.0004 | Episodes: 17 | Win count: 157 | Win rate: 0.651 | time: 9.89 minutes\n",
      "Epoch: 241/14999 | Loss: 0.0009 | Episodes: 31 | Win count: 158 | Win rate: 0.653 | time: 9.91 minutes\n"
     ]
    },
    {
     "name": "stdout",
     "output_type": "stream",
     "text": [
      "Epoch: 242/14999 | Loss: 0.0005 | Episodes: 21 | Win count: 159 | Win rate: 0.654 | time: 9.92 minutes\n",
      "Epoch: 243/14999 | Loss: 0.0002 | Episodes: 52 | Win count: 160 | Win rate: 0.656 | time: 9.95 minutes\n",
      "Epoch: 244/14999 | Loss: 0.0014 | Episodes: 20 | Win count: 161 | Win rate: 0.657 | time: 9.96 minutes\n",
      "Epoch: 245/14999 | Loss: 0.0005 | Episodes: 7 | Win count: 162 | Win rate: 0.659 | time: 9.97 minutes\n",
      "Epoch: 246/14999 | Loss: 0.0003 | Episodes: 9 | Win count: 163 | Win rate: 0.660 | time: 9.98 minutes\n",
      "Epoch: 247/14999 | Loss: 0.0001 | Episodes: 29 | Win count: 164 | Win rate: 0.661 | time: 10.00 minutes\n",
      "Epoch: 248/14999 | Loss: 0.0002 | Episodes: 38 | Win count: 165 | Win rate: 0.663 | time: 10.03 minutes\n",
      "Epoch: 249/14999 | Loss: 0.0003 | Episodes: 2 | Win count: 166 | Win rate: 0.664 | time: 10.04 minutes\n",
      "Epoch: 250/14999 | Loss: 0.0004 | Episodes: 2 | Win count: 167 | Win rate: 0.665 | time: 10.04 minutes\n",
      "Epoch: 251/14999 | Loss: 0.0002 | Episodes: 25 | Win count: 168 | Win rate: 0.667 | time: 10.07 minutes\n",
      "Epoch: 252/14999 | Loss: 0.0003 | Episodes: 12 | Win count: 169 | Win rate: 0.668 | time: 10.08 minutes\n",
      "Epoch: 253/14999 | Loss: 0.0003 | Episodes: 20 | Win count: 170 | Win rate: 0.669 | time: 10.10 minutes\n",
      "Epoch: 254/14999 | Loss: 0.0001 | Episodes: 22 | Win count: 171 | Win rate: 0.671 | time: 10.11 minutes\n",
      "Epoch: 255/14999 | Loss: 0.0003 | Episodes: 17 | Win count: 172 | Win rate: 0.672 | time: 10.12 minutes\n",
      "Epoch: 256/14999 | Loss: 0.0016 | Episodes: 12 | Win count: 173 | Win rate: 0.673 | time: 10.14 minutes\n",
      "Epoch: 257/14999 | Loss: 0.0016 | Episodes: 1 | Win count: 174 | Win rate: 0.674 | time: 10.14 minutes\n",
      "Epoch: 258/14999 | Loss: 0.0018 | Episodes: 28 | Win count: 175 | Win rate: 0.676 | time: 10.16 minutes\n",
      "Epoch: 259/14999 | Loss: 0.0001 | Episodes: 1 | Win count: 176 | Win rate: 0.677 | time: 10.17 minutes\n",
      "Epoch: 260/14999 | Loss: 0.0004 | Episodes: 21 | Win count: 177 | Win rate: 0.678 | time: 10.19 minutes\n",
      "Epoch: 261/14999 | Loss: 0.0001 | Episodes: 25 | Win count: 178 | Win rate: 0.679 | time: 10.20 minutes\n",
      "Epoch: 262/14999 | Loss: 0.0000 | Episodes: 13 | Win count: 179 | Win rate: 0.681 | time: 10.21 minutes\n",
      "Epoch: 263/14999 | Loss: 0.0009 | Episodes: 1 | Win count: 180 | Win rate: 0.682 | time: 10.22 minutes\n",
      "Epoch: 264/14999 | Loss: 0.0001 | Episodes: 35 | Win count: 181 | Win rate: 0.683 | time: 10.24 minutes\n",
      "Epoch: 265/14999 | Loss: 0.0001 | Episodes: 8 | Win count: 182 | Win rate: 0.684 | time: 10.24 minutes\n",
      "Epoch: 266/14999 | Loss: 0.0004 | Episodes: 9 | Win count: 183 | Win rate: 0.685 | time: 10.25 minutes\n",
      "Epoch: 267/14999 | Loss: 0.0003 | Episodes: 35 | Win count: 184 | Win rate: 0.687 | time: 10.28 minutes\n",
      "Epoch: 268/14999 | Loss: 0.0010 | Episodes: 8 | Win count: 185 | Win rate: 0.688 | time: 10.28 minutes\n",
      "Epoch: 269/14999 | Loss: 0.0010 | Episodes: 27 | Win count: 186 | Win rate: 0.689 | time: 10.30 minutes\n",
      "Epoch: 270/14999 | Loss: 0.0006 | Episodes: 4 | Win count: 187 | Win rate: 0.690 | time: 10.31 minutes\n",
      "Epoch: 271/14999 | Loss: 0.0006 | Episodes: 4 | Win count: 188 | Win rate: 0.691 | time: 10.33 minutes\n",
      "Epoch: 272/14999 | Loss: 0.0009 | Episodes: 8 | Win count: 189 | Win rate: 0.692 | time: 10.33 minutes\n",
      "Epoch: 273/14999 | Loss: 0.0002 | Episodes: 47 | Win count: 190 | Win rate: 0.693 | time: 10.36 minutes\n",
      "Epoch: 274/14999 | Loss: 0.0002 | Episodes: 4 | Win count: 191 | Win rate: 0.695 | time: 10.37 minutes\n",
      "Epoch: 275/14999 | Loss: 0.0006 | Episodes: 11 | Win count: 192 | Win rate: 0.696 | time: 10.39 minutes\n",
      "Epoch: 276/14999 | Loss: 0.0003 | Episodes: 35 | Win count: 193 | Win rate: 0.697 | time: 10.41 minutes\n",
      "Epoch: 277/14999 | Loss: 0.0010 | Episodes: 6 | Win count: 194 | Win rate: 0.698 | time: 10.42 minutes\n",
      "Epoch: 278/14999 | Loss: 0.0008 | Episodes: 27 | Win count: 195 | Win rate: 0.699 | time: 10.43 minutes\n",
      "Epoch: 279/14999 | Loss: 0.0008 | Episodes: 29 | Win count: 196 | Win rate: 0.700 | time: 10.45 minutes\n",
      "Epoch: 280/14999 | Loss: 0.0002 | Episodes: 14 | Win count: 197 | Win rate: 0.701 | time: 10.46 minutes\n",
      "Epoch: 281/14999 | Loss: 0.0002 | Episodes: 15 | Win count: 198 | Win rate: 0.702 | time: 10.47 minutes\n",
      "Epoch: 282/14999 | Loss: 0.0005 | Episodes: 33 | Win count: 199 | Win rate: 0.703 | time: 10.49 minutes\n",
      "Epoch: 283/14999 | Loss: 0.0002 | Episodes: 77 | Win count: 200 | Win rate: 0.704 | time: 10.53 minutes\n",
      "Epoch: 284/14999 | Loss: 0.0007 | Episodes: 8 | Win count: 201 | Win rate: 0.705 | time: 10.54 minutes\n",
      "Epoch: 285/14999 | Loss: 0.0001 | Episodes: 38 | Win count: 202 | Win rate: 0.706 | time: 10.56 minutes\n",
      "Epoch: 286/14999 | Loss: 0.0005 | Episodes: 14 | Win count: 203 | Win rate: 0.707 | time: 10.57 minutes\n",
      "Epoch: 287/14999 | Loss: 0.0018 | Episodes: 34 | Win count: 204 | Win rate: 0.708 | time: 10.59 minutes\n",
      "Epoch: 288/14999 | Loss: 0.0001 | Episodes: 19 | Win count: 205 | Win rate: 0.709 | time: 10.62 minutes\n",
      "Epoch: 289/14999 | Loss: 0.0005 | Episodes: 24 | Win count: 206 | Win rate: 0.710 | time: 10.64 minutes\n",
      "Epoch: 290/14999 | Loss: 0.0006 | Episodes: 7 | Win count: 207 | Win rate: 0.711 | time: 10.64 minutes\n",
      "Epoch: 291/14999 | Loss: 0.0016 | Episodes: 10 | Win count: 208 | Win rate: 0.712 | time: 10.66 minutes\n",
      "Epoch: 292/14999 | Loss: 0.0011 | Episodes: 2 | Win count: 209 | Win rate: 0.713 | time: 10.66 minutes\n",
      "Epoch: 293/14999 | Loss: 0.0003 | Episodes: 41 | Win count: 210 | Win rate: 0.714 | time: 10.69 minutes\n",
      "Epoch: 294/14999 | Loss: 0.0012 | Episodes: 21 | Win count: 211 | Win rate: 0.715 | time: 10.71 minutes\n",
      "Epoch: 295/14999 | Loss: 0.0010 | Episodes: 17 | Win count: 212 | Win rate: 0.716 | time: 10.72 minutes\n",
      "Epoch: 296/14999 | Loss: 0.0010 | Episodes: 8 | Win count: 213 | Win rate: 0.717 | time: 10.73 minutes\n",
      "Epoch: 297/14999 | Loss: 0.0006 | Episodes: 33 | Win count: 214 | Win rate: 0.718 | time: 10.75 minutes\n",
      "Epoch: 298/14999 | Loss: 0.0011 | Episodes: 25 | Win count: 215 | Win rate: 0.719 | time: 10.76 minutes\n",
      "Epoch: 299/14999 | Loss: 0.0001 | Episodes: 4 | Win count: 216 | Win rate: 0.720 | time: 10.78 minutes\n",
      "Epoch: 300/14999 | Loss: 0.0000 | Episodes: 20 | Win count: 217 | Win rate: 0.721 | time: 10.80 minutes\n",
      "Epoch: 301/14999 | Loss: 0.0013 | Episodes: 16 | Win count: 218 | Win rate: 0.722 | time: 10.81 minutes\n",
      "Epoch: 302/14999 | Loss: 0.0005 | Episodes: 1 | Win count: 219 | Win rate: 0.723 | time: 10.82 minutes\n",
      "Epoch: 303/14999 | Loss: 0.0014 | Episodes: 18 | Win count: 220 | Win rate: 0.724 | time: 10.85 minutes\n",
      "Epoch: 304/14999 | Loss: 0.0010 | Episodes: 14 | Win count: 221 | Win rate: 0.725 | time: 10.87 minutes\n",
      "Epoch: 305/14999 | Loss: 0.0006 | Episodes: 30 | Win count: 222 | Win rate: 0.725 | time: 10.91 minutes\n",
      "Epoch: 306/14999 | Loss: 0.0000 | Episodes: 23 | Win count: 223 | Win rate: 0.726 | time: 10.92 minutes\n",
      "Epoch: 307/14999 | Loss: 0.0011 | Episodes: 44 | Win count: 224 | Win rate: 0.727 | time: 10.96 minutes\n",
      "Epoch: 308/14999 | Loss: 0.0004 | Episodes: 5 | Win count: 225 | Win rate: 0.728 | time: 10.96 minutes\n",
      "Epoch: 309/14999 | Loss: 0.0006 | Episodes: 13 | Win count: 226 | Win rate: 0.729 | time: 10.99 minutes\n",
      "Epoch: 310/14999 | Loss: 0.0002 | Episodes: 50 | Win count: 227 | Win rate: 0.730 | time: 11.02 minutes\n",
      "Epoch: 311/14999 | Loss: 0.0011 | Episodes: 53 | Win count: 228 | Win rate: 0.731 | time: 11.06 minutes\n",
      "Epoch: 312/14999 | Loss: 0.0007 | Episodes: 11 | Win count: 229 | Win rate: 0.732 | time: 11.07 minutes\n",
      "Epoch: 313/14999 | Loss: 0.0007 | Episodes: 34 | Win count: 230 | Win rate: 0.732 | time: 11.10 minutes\n",
      "Epoch: 314/14999 | Loss: 0.0013 | Episodes: 20 | Win count: 231 | Win rate: 0.733 | time: 11.12 minutes\n",
      "Epoch: 315/14999 | Loss: 0.0008 | Episodes: 37 | Win count: 232 | Win rate: 0.734 | time: 11.15 minutes\n",
      "Epoch: 316/14999 | Loss: 0.0006 | Episodes: 5 | Win count: 233 | Win rate: 0.735 | time: 11.16 minutes\n",
      "Epoch: 317/14999 | Loss: 0.0004 | Episodes: 2 | Win count: 234 | Win rate: 0.736 | time: 11.16 minutes\n",
      "Epoch: 318/14999 | Loss: 0.0022 | Episodes: 2 | Win count: 235 | Win rate: 0.737 | time: 11.16 minutes\n",
      "Epoch: 319/14999 | Loss: 0.0009 | Episodes: 27 | Win count: 236 | Win rate: 0.738 | time: 11.18 minutes\n",
      "Epoch: 320/14999 | Loss: 0.0004 | Episodes: 37 | Win count: 237 | Win rate: 0.738 | time: 11.20 minutes\n",
      "Epoch: 321/14999 | Loss: 0.0005 | Episodes: 13 | Win count: 238 | Win rate: 0.739 | time: 11.21 minutes\n"
     ]
    },
    {
     "name": "stdout",
     "output_type": "stream",
     "text": [
      "Epoch: 322/14999 | Loss: 0.0005 | Episodes: 5 | Win count: 239 | Win rate: 0.740 | time: 11.22 minutes\n",
      "Epoch: 323/14999 | Loss: 0.0016 | Episodes: 31 | Win count: 240 | Win rate: 0.741 | time: 11.25 minutes\n",
      "Epoch: 324/14999 | Loss: 0.0011 | Episodes: 4 | Win count: 241 | Win rate: 0.742 | time: 11.26 minutes\n",
      "Epoch: 325/14999 | Loss: 0.0003 | Episodes: 22 | Win count: 242 | Win rate: 0.742 | time: 11.28 minutes\n",
      "Epoch: 326/14999 | Loss: 0.0002 | Episodes: 22 | Win count: 243 | Win rate: 0.743 | time: 11.30 minutes\n",
      "Epoch: 327/14999 | Loss: 0.0007 | Episodes: 28 | Win count: 244 | Win rate: 0.744 | time: 11.31 minutes\n",
      "Epoch: 328/14999 | Loss: 0.0008 | Episodes: 43 | Win count: 245 | Win rate: 0.745 | time: 11.35 minutes\n",
      "Epoch: 329/14999 | Loss: 0.0013 | Episodes: 4 | Win count: 246 | Win rate: 0.745 | time: 11.36 minutes\n",
      "Epoch: 330/14999 | Loss: 0.0022 | Episodes: 10 | Win count: 247 | Win rate: 0.746 | time: 11.37 minutes\n",
      "Epoch: 331/14999 | Loss: 0.0011 | Episodes: 33 | Win count: 248 | Win rate: 0.747 | time: 11.39 minutes\n",
      "Epoch: 332/14999 | Loss: 0.0019 | Episodes: 15 | Win count: 249 | Win rate: 0.748 | time: 11.41 minutes\n",
      "Epoch: 333/14999 | Loss: 0.0006 | Episodes: 10 | Win count: 250 | Win rate: 0.749 | time: 11.42 minutes\n",
      "Epoch: 334/14999 | Loss: 0.0001 | Episodes: 18 | Win count: 251 | Win rate: 0.749 | time: 11.43 minutes\n",
      "Epoch: 335/14999 | Loss: 0.0012 | Episodes: 9 | Win count: 252 | Win rate: 0.750 | time: 11.45 minutes\n",
      "Epoch: 336/14999 | Loss: 0.0001 | Episodes: 2 | Win count: 253 | Win rate: 0.751 | time: 11.45 minutes\n",
      "Epoch: 337/14999 | Loss: 0.0004 | Episodes: 10 | Win count: 254 | Win rate: 0.751 | time: 11.47 minutes\n",
      "Epoch: 338/14999 | Loss: 0.0002 | Episodes: 30 | Win count: 255 | Win rate: 0.752 | time: 11.49 minutes\n",
      "Epoch: 339/14999 | Loss: 0.0001 | Episodes: 50 | Win count: 256 | Win rate: 0.753 | time: 11.52 minutes\n",
      "Epoch: 340/14999 | Loss: 0.0001 | Episodes: 25 | Win count: 257 | Win rate: 0.754 | time: 11.55 minutes\n",
      "Epoch: 341/14999 | Loss: 0.0008 | Episodes: 2 | Win count: 258 | Win rate: 0.754 | time: 11.56 minutes\n",
      "Epoch: 342/14999 | Loss: 0.0007 | Episodes: 32 | Win count: 259 | Win rate: 0.755 | time: 11.58 minutes\n",
      "Epoch: 343/14999 | Loss: 0.0001 | Episodes: 10 | Win count: 260 | Win rate: 0.756 | time: 11.59 minutes\n",
      "Epoch: 344/14999 | Loss: 0.0006 | Episodes: 2 | Win count: 261 | Win rate: 0.757 | time: 11.60 minutes\n",
      "Epoch: 345/14999 | Loss: 0.0001 | Episodes: 26 | Win count: 262 | Win rate: 0.757 | time: 11.63 minutes\n",
      "Epoch: 346/14999 | Loss: 0.0007 | Episodes: 8 | Win count: 263 | Win rate: 0.758 | time: 11.64 minutes\n",
      "Epoch: 347/14999 | Loss: 0.0004 | Episodes: 7 | Win count: 264 | Win rate: 0.759 | time: 11.65 minutes\n",
      "Epoch: 348/14999 | Loss: 0.0009 | Episodes: 1 | Win count: 265 | Win rate: 0.759 | time: 11.65 minutes\n",
      "Epoch: 349/14999 | Loss: 0.0002 | Episodes: 49 | Win count: 266 | Win rate: 0.760 | time: 11.68 minutes\n",
      "Epoch: 350/14999 | Loss: 0.0010 | Episodes: 6 | Win count: 267 | Win rate: 0.761 | time: 11.69 minutes\n",
      "Epoch: 351/14999 | Loss: 0.0013 | Episodes: 25 | Win count: 268 | Win rate: 0.761 | time: 11.70 minutes\n",
      "Epoch: 352/14999 | Loss: 0.0001 | Episodes: 13 | Win count: 269 | Win rate: 0.762 | time: 11.72 minutes\n",
      "Epoch: 353/14999 | Loss: 0.0006 | Episodes: 2 | Win count: 270 | Win rate: 0.763 | time: 11.73 minutes\n",
      "Epoch: 354/14999 | Loss: 0.0001 | Episodes: 38 | Win count: 271 | Win rate: 0.763 | time: 11.76 minutes\n",
      "Epoch: 355/14999 | Loss: 0.0010 | Episodes: 24 | Win count: 272 | Win rate: 0.764 | time: 11.77 minutes\n",
      "Epoch: 356/14999 | Loss: 0.0001 | Episodes: 30 | Win count: 273 | Win rate: 0.765 | time: 11.79 minutes\n",
      "Epoch: 357/14999 | Loss: 0.0011 | Episodes: 23 | Win count: 274 | Win rate: 0.765 | time: 11.81 minutes\n",
      "Epoch: 358/14999 | Loss: 0.0001 | Episodes: 51 | Win count: 275 | Win rate: 0.766 | time: 11.86 minutes\n",
      "Epoch: 359/14999 | Loss: 0.0001 | Episodes: 14 | Win count: 276 | Win rate: 0.767 | time: 11.87 minutes\n",
      "Epoch: 360/14999 | Loss: 0.0002 | Episodes: 24 | Win count: 277 | Win rate: 0.767 | time: 11.89 minutes\n",
      "Epoch: 361/14999 | Loss: 0.0006 | Episodes: 25 | Win count: 278 | Win rate: 0.768 | time: 11.92 minutes\n",
      "Epoch: 362/14999 | Loss: 0.0013 | Episodes: 27 | Win count: 279 | Win rate: 0.769 | time: 11.95 minutes\n",
      "Epoch: 363/14999 | Loss: 0.0000 | Episodes: 4 | Win count: 280 | Win rate: 0.769 | time: 11.96 minutes\n",
      "Epoch: 364/14999 | Loss: 0.0005 | Episodes: 10 | Win count: 281 | Win rate: 0.770 | time: 11.97 minutes\n",
      "Epoch: 365/14999 | Loss: 0.0001 | Episodes: 5 | Win count: 282 | Win rate: 0.770 | time: 11.98 minutes\n",
      "Epoch: 366/14999 | Loss: 0.0006 | Episodes: 44 | Win count: 283 | Win rate: 0.771 | time: 12.02 minutes\n",
      "Epoch: 367/14999 | Loss: 0.0003 | Episodes: 24 | Win count: 284 | Win rate: 0.772 | time: 12.04 minutes\n",
      "Epoch: 368/14999 | Loss: 0.0006 | Episodes: 32 | Win count: 285 | Win rate: 0.772 | time: 12.06 minutes\n",
      "Epoch: 369/14999 | Loss: 0.0001 | Episodes: 31 | Win count: 286 | Win rate: 0.773 | time: 12.08 minutes\n",
      "Epoch: 370/14999 | Loss: 0.0024 | Episodes: 30 | Win count: 287 | Win rate: 0.774 | time: 12.10 minutes\n",
      "Epoch: 371/14999 | Loss: 0.0013 | Episodes: 13 | Win count: 288 | Win rate: 0.774 | time: 12.11 minutes\n",
      "Epoch: 372/14999 | Loss: 0.0015 | Episodes: 15 | Win count: 289 | Win rate: 0.775 | time: 12.13 minutes\n",
      "Epoch: 373/14999 | Loss: 0.0019 | Episodes: 26 | Win count: 290 | Win rate: 0.775 | time: 12.15 minutes\n",
      "Epoch: 374/14999 | Loss: 0.0007 | Episodes: 30 | Win count: 291 | Win rate: 0.776 | time: 12.18 minutes\n",
      "Epoch: 375/14999 | Loss: 0.0007 | Episodes: 24 | Win count: 292 | Win rate: 0.777 | time: 12.20 minutes\n",
      "Epoch: 376/14999 | Loss: 0.0009 | Episodes: 16 | Win count: 293 | Win rate: 0.777 | time: 12.22 minutes\n",
      "Epoch: 377/14999 | Loss: 0.0009 | Episodes: 15 | Win count: 294 | Win rate: 0.778 | time: 12.23 minutes\n",
      "Epoch: 378/14999 | Loss: 0.0006 | Episodes: 28 | Win count: 295 | Win rate: 0.778 | time: 12.26 minutes\n",
      "Epoch: 379/14999 | Loss: 0.0003 | Episodes: 22 | Win count: 296 | Win rate: 0.779 | time: 12.28 minutes\n",
      "Epoch: 380/14999 | Loss: 0.0003 | Episodes: 30 | Win count: 297 | Win rate: 0.780 | time: 12.30 minutes\n",
      "Epoch: 381/14999 | Loss: 0.0002 | Episodes: 10 | Win count: 298 | Win rate: 0.780 | time: 12.32 minutes\n",
      "Epoch: 382/14999 | Loss: 0.0003 | Episodes: 30 | Win count: 299 | Win rate: 0.781 | time: 12.35 minutes\n",
      "Epoch: 383/14999 | Loss: 0.0006 | Episodes: 10 | Win count: 300 | Win rate: 0.781 | time: 12.37 minutes\n",
      "Epoch: 384/14999 | Loss: 0.0006 | Episodes: 48 | Win count: 301 | Win rate: 0.782 | time: 12.41 minutes\n",
      "Epoch: 385/14999 | Loss: 0.0013 | Episodes: 16 | Win count: 302 | Win rate: 0.782 | time: 12.43 minutes\n",
      "Epoch: 386/14999 | Loss: 0.0012 | Episodes: 46 | Win count: 303 | Win rate: 0.783 | time: 12.47 minutes\n",
      "Reached 100% win rate at epoch: 386\n",
      "n_epoch: 386, max_mem: 512, data: 32, time: 12.49 minutes\n"
     ]
    },
    {
     "data": {
      "text/plain": [
       "749.103218"
      ]
     },
     "execution_count": 11,
     "metadata": {},
     "output_type": "execute_result"
    }
   ],
   "source": [
    "model = build_model(maze)\n",
    "qtrain(model, maze, epochs=1000, max_memory=8*maze.size, data_size=32)"
   ]
  },
  {
   "cell_type": "markdown",
   "metadata": {},
   "source": [
    "This cell will check to see if the model passes the completion check. Note: This could take several minutes."
   ]
  },
  {
   "cell_type": "code",
   "execution_count": 12,
   "metadata": {},
   "outputs": [
    {
     "data": {
      "text/plain": [
       "<matplotlib.image.AxesImage at 0x1abb0b56348>"
      ]
     },
     "execution_count": 12,
     "metadata": {},
     "output_type": "execute_result"
    },
    {
     "data": {
      "image/png": "[encoded data removed]",
      "text/plain": [
       "<Figure size 432x288 with 1 Axes>"
      ]
     },
     "metadata": {
      "needs_background": "light"
     },
     "output_type": "display_data"
    }
   ],
   "source": [
    "completion_check(model, qmaze)\n",
    "show(qmaze)"
   ]
  },
  {
   "cell_type": "markdown",
   "metadata": {},
   "source": [
    "This cell will test your model for one game. It will start the pirate at the top-left corner and run play_game. The agent should find a path from the starting position to the target (treasure). The treasure is located in the bottom-right corner."
   ]
  },
  {
   "cell_type": "code",
   "execution_count": 13,
   "metadata": {},
   "outputs": [
    {
     "data": {
      "text/plain": [
       "<matplotlib.image.AxesImage at 0x1abb43b9e88>"
      ]
     },
     "execution_count": 13,
     "metadata": {},
     "output_type": "execute_result"
    },
    {
     "data": {
      "image/png": "[encoded data removed]",
      "text/plain": [
       "<Figure size 432x288 with 1 Axes>"
      ]
     },
     "metadata": {
      "needs_background": "light"
     },
     "output_type": "display_data"
    }
   ],
   "source": [
    "pirate_start = (0, 0)\n",
    "play_game(model, qmaze, pirate_start)\n",
    "show(qmaze)"
   ]
  },
  {
   "cell_type": "markdown",
   "metadata": {},
   "source": [
    "## Save and Submit Your Work\n",
    "After you have finished creating the code for your notebook, save your work. Make sure that your notebook contains your name in the filename (e.g. Doe_Jane_ProjectTwo.ipynb). This will help your instructor access and grade your work easily. Download a copy of your IPYNB file and submit it to Brightspace. Refer to the Jupyter Notebook in Apporto Tutorial if you need help with these tasks."
   ]
  }
 ],
 "metadata": {
  "kernelspec": {
   "display_name": "Python 3",
   "language": "python",
   "name": "python3"
  },
  "language_info": {
   "codemirror_mode": {
    "name": "ipython",
    "version": 3
   },
   "file_extension": ".py",
   "mimetype": "text/x-python",
   "name": "python",
   "nbconvert_exporter": "python",
   "pygments_lexer": "ipython3",
   "version": "3.7.4"
  }
 },
 "nbformat": 4,
 "nbformat_minor": 2
}
